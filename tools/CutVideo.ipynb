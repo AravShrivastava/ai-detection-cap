{
 "cells": [
  {
   "cell_type": "markdown",
   "metadata": {},
   "source": [
    "# Cut video"
   ]
  },
  {
   "cell_type": "code",
   "execution_count": null,
   "metadata": {},
   "outputs": [],
   "source": [
    "# Slice video input video.mp4\n",
    "# Begin timestamp: 00:10:10\n",
    "# End timestamp: 00:11:11\n",
    "# -an disables audio\n",
    "\n",
    "#!ffmpeg -ss begin -i video.mp4 -t duration -an -c:v copy video-out.mp4\n",
    "\n",
    "\n",
    "!ffmpeg -ss 00:35:30 -i suburb.mp4 -t 00:00:30 -an -c:v copy urban-7.mp4"
   ]
  },
  {
   "cell_type": "code",
   "execution_count": null,
   "metadata": {},
   "outputs": [],
   "source": []
  }
 ],
 "metadata": {
  "kernelspec": {
   "display_name": "Python 3",
   "language": "python",
   "name": "python3"
  },
  "language_info": {
   "codemirror_mode": {
    "name": "ipython",
    "version": 3
   },
   "file_extension": ".py",
   "mimetype": "text/x-python",
   "name": "python",
   "nbconvert_exporter": "python",
   "pygments_lexer": "ipython3",
   "version": "3.7.9-final"
  }
 },
 "nbformat": 4,
 "nbformat_minor": 4
}